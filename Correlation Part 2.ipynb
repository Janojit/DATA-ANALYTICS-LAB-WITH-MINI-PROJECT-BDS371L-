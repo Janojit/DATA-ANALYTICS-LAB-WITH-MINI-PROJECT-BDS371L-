{
 "cells": [
  {
   "cell_type": "markdown",
   "id": "a8e06110",
   "metadata": {},
   "source": [
    "# Making a Small Dataset keeping Correlation in Mind\n",
    "## Coder Name: Janojit Chakraborty\n",
    "## Coder Registration Number: 21112011"
   ]
  },
  {
   "cell_type": "markdown",
   "id": "c4ba08c0",
   "metadata": {},
   "source": [
    "### Objective\n",
    "- To get basic understanding about Correlation"
   ]
  },
  {
   "cell_type": "markdown",
   "id": "fb270d82",
   "metadata": {},
   "source": [
    "### Observation on Correlation Values:\n",
    "- Correlation lies between -1 to +1.\n",
    "- Different Correlation techniques give us different correlation.\n",
    "- If two attributes can be represented as,<br>\n",
    "    <br>\n",
    "    Attribute1 = Positive Constant x Attribute2<br>\n",
    "    <br>\n",
    "   Then their Correlation will be +1"
   ]
  },
  {
   "cell_type": "code",
   "execution_count": 1,
   "id": "08483cb2",
   "metadata": {},
   "outputs": [],
   "source": [
    "import pandas as pd\n",
    "import matplotlib.pyplot as plt\n",
    "import seaborn as sns"
   ]
  },
  {
   "cell_type": "code",
   "execution_count": 2,
   "id": "b59dde1e",
   "metadata": {},
   "outputs": [
    {
     "data": {
      "text/html": [
       "<div>\n",
       "<style scoped>\n",
       "    .dataframe tbody tr th:only-of-type {\n",
       "        vertical-align: middle;\n",
       "    }\n",
       "\n",
       "    .dataframe tbody tr th {\n",
       "        vertical-align: top;\n",
       "    }\n",
       "\n",
       "    .dataframe thead th {\n",
       "        text-align: right;\n",
       "    }\n",
       "</style>\n",
       "<table border=\"1\" class=\"dataframe\">\n",
       "  <thead>\n",
       "    <tr style=\"text-align: right;\">\n",
       "      <th></th>\n",
       "      <th>A</th>\n",
       "      <th>B</th>\n",
       "      <th>C</th>\n",
       "      <th>D</th>\n",
       "      <th>E</th>\n",
       "      <th>F</th>\n",
       "    </tr>\n",
       "  </thead>\n",
       "  <tbody>\n",
       "    <tr>\n",
       "      <th>0</th>\n",
       "      <td>1</td>\n",
       "      <td>100</td>\n",
       "      <td>100</td>\n",
       "      <td>-719000.000000</td>\n",
       "      <td>-552206.096560</td>\n",
       "      <td>2.00</td>\n",
       "    </tr>\n",
       "    <tr>\n",
       "      <th>1</th>\n",
       "      <td>2</td>\n",
       "      <td>200</td>\n",
       "      <td>200</td>\n",
       "      <td>164800.000000</td>\n",
       "      <td>0.583983</td>\n",
       "      <td>23.66</td>\n",
       "    </tr>\n",
       "    <tr>\n",
       "      <th>2</th>\n",
       "      <td>3</td>\n",
       "      <td>300</td>\n",
       "      <td>300</td>\n",
       "      <td>-0.761143</td>\n",
       "      <td>-4935.000000</td>\n",
       "      <td>6.00</td>\n",
       "    </tr>\n",
       "    <tr>\n",
       "      <th>3</th>\n",
       "      <td>4</td>\n",
       "      <td>400</td>\n",
       "      <td>800</td>\n",
       "      <td>-517900.000000</td>\n",
       "      <td>0.960604</td>\n",
       "      <td>8.00</td>\n",
       "    </tr>\n",
       "    <tr>\n",
       "      <th>4</th>\n",
       "      <td>5</td>\n",
       "      <td>500</td>\n",
       "      <td>400</td>\n",
       "      <td>750500.000000</td>\n",
       "      <td>0.189865</td>\n",
       "      <td>10.00</td>\n",
       "    </tr>\n",
       "    <tr>\n",
       "      <th>5</th>\n",
       "      <td>6</td>\n",
       "      <td>600</td>\n",
       "      <td>750</td>\n",
       "      <td>-0.249926</td>\n",
       "      <td>-334103.408632</td>\n",
       "      <td>12.00</td>\n",
       "    </tr>\n",
       "  </tbody>\n",
       "</table>\n",
       "</div>"
      ],
      "text/plain": [
       "   A    B    C              D              E      F\n",
       "0  1  100  100 -719000.000000 -552206.096560   2.00\n",
       "1  2  200  200  164800.000000       0.583983  23.66\n",
       "2  3  300  300      -0.761143   -4935.000000   6.00\n",
       "3  4  400  800 -517900.000000       0.960604   8.00\n",
       "4  5  500  400  750500.000000       0.189865  10.00\n",
       "5  6  600  750      -0.249926 -334103.408632  12.00"
      ]
     },
     "execution_count": 2,
     "metadata": {},
     "output_type": "execute_result"
    }
   ],
   "source": [
    "df = pd.read_csv(\"correlation_Dataset.csv\")\n",
    "\n",
    "df"
   ]
  },
  {
   "cell_type": "code",
   "execution_count": 3,
   "id": "6b1d0ab6",
   "metadata": {},
   "outputs": [],
   "source": [
    "df_p = df.corr(method='pearson')\n",
    "df_k = df.corr(method='kendall')\n",
    "df_s = df.corr(method='spearman')"
   ]
  },
  {
   "cell_type": "code",
   "execution_count": 4,
   "id": "62d9fcae",
   "metadata": {},
   "outputs": [
    {
     "data": {
      "text/html": [
       "<div>\n",
       "<style scoped>\n",
       "    .dataframe tbody tr th:only-of-type {\n",
       "        vertical-align: middle;\n",
       "    }\n",
       "\n",
       "    .dataframe tbody tr th {\n",
       "        vertical-align: top;\n",
       "    }\n",
       "\n",
       "    .dataframe thead th {\n",
       "        text-align: right;\n",
       "    }\n",
       "</style>\n",
       "<table border=\"1\" class=\"dataframe\">\n",
       "  <thead>\n",
       "    <tr style=\"text-align: right;\">\n",
       "      <th></th>\n",
       "      <th>A</th>\n",
       "      <th>B</th>\n",
       "      <th>C</th>\n",
       "      <th>D</th>\n",
       "      <th>E</th>\n",
       "      <th>F</th>\n",
       "    </tr>\n",
       "  </thead>\n",
       "  <tbody>\n",
       "    <tr>\n",
       "      <th>A</th>\n",
       "      <td>1.000000</td>\n",
       "      <td>1.000000</td>\n",
       "      <td>0.803457</td>\n",
       "      <td>0.495757</td>\n",
       "      <td>0.245603</td>\n",
       "      <td>0.079552</td>\n",
       "    </tr>\n",
       "    <tr>\n",
       "      <th>B</th>\n",
       "      <td>1.000000</td>\n",
       "      <td>1.000000</td>\n",
       "      <td>0.803457</td>\n",
       "      <td>0.495757</td>\n",
       "      <td>0.245603</td>\n",
       "      <td>0.079552</td>\n",
       "    </tr>\n",
       "    <tr>\n",
       "      <th>C</th>\n",
       "      <td>0.803457</td>\n",
       "      <td>0.803457</td>\n",
       "      <td>1.000000</td>\n",
       "      <td>-0.021718</td>\n",
       "      <td>0.207264</td>\n",
       "      <td>-0.006860</td>\n",
       "    </tr>\n",
       "    <tr>\n",
       "      <th>D</th>\n",
       "      <td>0.495757</td>\n",
       "      <td>0.495757</td>\n",
       "      <td>-0.021718</td>\n",
       "      <td>1.000000</td>\n",
       "      <td>0.562135</td>\n",
       "      <td>0.473024</td>\n",
       "    </tr>\n",
       "    <tr>\n",
       "      <th>E</th>\n",
       "      <td>0.245603</td>\n",
       "      <td>0.245603</td>\n",
       "      <td>0.207264</td>\n",
       "      <td>0.562135</td>\n",
       "      <td>1.000000</td>\n",
       "      <td>0.454963</td>\n",
       "    </tr>\n",
       "    <tr>\n",
       "      <th>F</th>\n",
       "      <td>0.079552</td>\n",
       "      <td>0.079552</td>\n",
       "      <td>-0.006860</td>\n",
       "      <td>0.473024</td>\n",
       "      <td>0.454963</td>\n",
       "      <td>1.000000</td>\n",
       "    </tr>\n",
       "  </tbody>\n",
       "</table>\n",
       "</div>"
      ],
      "text/plain": [
       "          A         B         C         D         E         F\n",
       "A  1.000000  1.000000  0.803457  0.495757  0.245603  0.079552\n",
       "B  1.000000  1.000000  0.803457  0.495757  0.245603  0.079552\n",
       "C  0.803457  0.803457  1.000000 -0.021718  0.207264 -0.006860\n",
       "D  0.495757  0.495757 -0.021718  1.000000  0.562135  0.473024\n",
       "E  0.245603  0.245603  0.207264  0.562135  1.000000  0.454963\n",
       "F  0.079552  0.079552 -0.006860  0.473024  0.454963  1.000000"
      ]
     },
     "execution_count": 4,
     "metadata": {},
     "output_type": "execute_result"
    }
   ],
   "source": [
    "df_p"
   ]
  },
  {
   "cell_type": "code",
   "execution_count": 5,
   "id": "3e4e2468",
   "metadata": {},
   "outputs": [
    {
     "data": {
      "text/html": [
       "<div>\n",
       "<style scoped>\n",
       "    .dataframe tbody tr th:only-of-type {\n",
       "        vertical-align: middle;\n",
       "    }\n",
       "\n",
       "    .dataframe tbody tr th {\n",
       "        vertical-align: top;\n",
       "    }\n",
       "\n",
       "    .dataframe thead th {\n",
       "        text-align: right;\n",
       "    }\n",
       "</style>\n",
       "<table border=\"1\" class=\"dataframe\">\n",
       "  <thead>\n",
       "    <tr style=\"text-align: right;\">\n",
       "      <th></th>\n",
       "      <th>A</th>\n",
       "      <th>B</th>\n",
       "      <th>C</th>\n",
       "      <th>D</th>\n",
       "      <th>E</th>\n",
       "      <th>F</th>\n",
       "    </tr>\n",
       "  </thead>\n",
       "  <tbody>\n",
       "    <tr>\n",
       "      <th>A</th>\n",
       "      <td>1.000000</td>\n",
       "      <td>1.000000</td>\n",
       "      <td>0.733333</td>\n",
       "      <td>0.333333</td>\n",
       "      <td>0.066667</td>\n",
       "      <td>0.466667</td>\n",
       "    </tr>\n",
       "    <tr>\n",
       "      <th>B</th>\n",
       "      <td>1.000000</td>\n",
       "      <td>1.000000</td>\n",
       "      <td>0.733333</td>\n",
       "      <td>0.333333</td>\n",
       "      <td>0.066667</td>\n",
       "      <td>0.466667</td>\n",
       "    </tr>\n",
       "    <tr>\n",
       "      <th>C</th>\n",
       "      <td>0.733333</td>\n",
       "      <td>0.733333</td>\n",
       "      <td>1.000000</td>\n",
       "      <td>0.066667</td>\n",
       "      <td>0.333333</td>\n",
       "      <td>0.200000</td>\n",
       "    </tr>\n",
       "    <tr>\n",
       "      <th>D</th>\n",
       "      <td>0.333333</td>\n",
       "      <td>0.333333</td>\n",
       "      <td>0.066667</td>\n",
       "      <td>1.000000</td>\n",
       "      <td>0.200000</td>\n",
       "      <td>0.600000</td>\n",
       "    </tr>\n",
       "    <tr>\n",
       "      <th>E</th>\n",
       "      <td>0.066667</td>\n",
       "      <td>0.066667</td>\n",
       "      <td>0.333333</td>\n",
       "      <td>0.200000</td>\n",
       "      <td>1.000000</td>\n",
       "      <td>0.333333</td>\n",
       "    </tr>\n",
       "    <tr>\n",
       "      <th>F</th>\n",
       "      <td>0.466667</td>\n",
       "      <td>0.466667</td>\n",
       "      <td>0.200000</td>\n",
       "      <td>0.600000</td>\n",
       "      <td>0.333333</td>\n",
       "      <td>1.000000</td>\n",
       "    </tr>\n",
       "  </tbody>\n",
       "</table>\n",
       "</div>"
      ],
      "text/plain": [
       "          A         B         C         D         E         F\n",
       "A  1.000000  1.000000  0.733333  0.333333  0.066667  0.466667\n",
       "B  1.000000  1.000000  0.733333  0.333333  0.066667  0.466667\n",
       "C  0.733333  0.733333  1.000000  0.066667  0.333333  0.200000\n",
       "D  0.333333  0.333333  0.066667  1.000000  0.200000  0.600000\n",
       "E  0.066667  0.066667  0.333333  0.200000  1.000000  0.333333\n",
       "F  0.466667  0.466667  0.200000  0.600000  0.333333  1.000000"
      ]
     },
     "execution_count": 5,
     "metadata": {},
     "output_type": "execute_result"
    }
   ],
   "source": [
    "df_k"
   ]
  },
  {
   "cell_type": "code",
   "execution_count": 6,
   "id": "cc450e69",
   "metadata": {},
   "outputs": [
    {
     "data": {
      "text/html": [
       "<div>\n",
       "<style scoped>\n",
       "    .dataframe tbody tr th:only-of-type {\n",
       "        vertical-align: middle;\n",
       "    }\n",
       "\n",
       "    .dataframe tbody tr th {\n",
       "        vertical-align: top;\n",
       "    }\n",
       "\n",
       "    .dataframe thead th {\n",
       "        text-align: right;\n",
       "    }\n",
       "</style>\n",
       "<table border=\"1\" class=\"dataframe\">\n",
       "  <thead>\n",
       "    <tr style=\"text-align: right;\">\n",
       "      <th></th>\n",
       "      <th>A</th>\n",
       "      <th>B</th>\n",
       "      <th>C</th>\n",
       "      <th>D</th>\n",
       "      <th>E</th>\n",
       "      <th>F</th>\n",
       "    </tr>\n",
       "  </thead>\n",
       "  <tbody>\n",
       "    <tr>\n",
       "      <th>A</th>\n",
       "      <td>1.000000</td>\n",
       "      <td>1.000000</td>\n",
       "      <td>0.828571</td>\n",
       "      <td>0.485714</td>\n",
       "      <td>0.142857</td>\n",
       "      <td>0.428571</td>\n",
       "    </tr>\n",
       "    <tr>\n",
       "      <th>B</th>\n",
       "      <td>1.000000</td>\n",
       "      <td>1.000000</td>\n",
       "      <td>0.828571</td>\n",
       "      <td>0.485714</td>\n",
       "      <td>0.142857</td>\n",
       "      <td>0.428571</td>\n",
       "    </tr>\n",
       "    <tr>\n",
       "      <th>C</th>\n",
       "      <td>0.828571</td>\n",
       "      <td>0.828571</td>\n",
       "      <td>1.000000</td>\n",
       "      <td>0.142857</td>\n",
       "      <td>0.485714</td>\n",
       "      <td>0.257143</td>\n",
       "    </tr>\n",
       "    <tr>\n",
       "      <th>D</th>\n",
       "      <td>0.485714</td>\n",
       "      <td>0.485714</td>\n",
       "      <td>0.142857</td>\n",
       "      <td>1.000000</td>\n",
       "      <td>0.314286</td>\n",
       "      <td>0.771429</td>\n",
       "    </tr>\n",
       "    <tr>\n",
       "      <th>E</th>\n",
       "      <td>0.142857</td>\n",
       "      <td>0.142857</td>\n",
       "      <td>0.485714</td>\n",
       "      <td>0.314286</td>\n",
       "      <td>1.000000</td>\n",
       "      <td>0.428571</td>\n",
       "    </tr>\n",
       "    <tr>\n",
       "      <th>F</th>\n",
       "      <td>0.428571</td>\n",
       "      <td>0.428571</td>\n",
       "      <td>0.257143</td>\n",
       "      <td>0.771429</td>\n",
       "      <td>0.428571</td>\n",
       "      <td>1.000000</td>\n",
       "    </tr>\n",
       "  </tbody>\n",
       "</table>\n",
       "</div>"
      ],
      "text/plain": [
       "          A         B         C         D         E         F\n",
       "A  1.000000  1.000000  0.828571  0.485714  0.142857  0.428571\n",
       "B  1.000000  1.000000  0.828571  0.485714  0.142857  0.428571\n",
       "C  0.828571  0.828571  1.000000  0.142857  0.485714  0.257143\n",
       "D  0.485714  0.485714  0.142857  1.000000  0.314286  0.771429\n",
       "E  0.142857  0.142857  0.485714  0.314286  1.000000  0.428571\n",
       "F  0.428571  0.428571  0.257143  0.771429  0.428571  1.000000"
      ]
     },
     "execution_count": 6,
     "metadata": {},
     "output_type": "execute_result"
    }
   ],
   "source": [
    "df_s"
   ]
  },
  {
   "cell_type": "code",
   "execution_count": 7,
   "id": "c80d3fa5",
   "metadata": {},
   "outputs": [],
   "source": [
    "feature = ['A','B','C','D','E','F']"
   ]
  },
  {
   "cell_type": "code",
   "execution_count": 8,
   "id": "f65f1bc0",
   "metadata": {},
   "outputs": [],
   "source": [
    "method = ['Pearson','Kendall','Spearman']"
   ]
  },
  {
   "cell_type": "code",
   "execution_count": 9,
   "id": "924bf99f",
   "metadata": {},
   "outputs": [],
   "source": [
    "df2 = pd.DataFrame(columns = ['Feature-1','Feature-2','Method','Corr Value'])"
   ]
  },
  {
   "cell_type": "code",
   "execution_count": 10,
   "id": "7db4b122",
   "metadata": {},
   "outputs": [],
   "source": [
    "for i in range(len(feature)):\n",
    "    for j in range(len(feature)):\n",
    "        for k in range(len(method)):\n",
    "            newrow = {}\n",
    "            newrow['Feature-1'] = feature[i]\n",
    "            newrow['Feature-2'] = feature[j]\n",
    "            newrow['Method'] = method[k]\n",
    "            if method[k] == 'Pearson':\n",
    "                newrow['Corr Value'] = df_p.iat[i,j]\n",
    "            elif method[k] == 'Kendall':\n",
    "                newrow['Corr Value'] = df_k.iat[i,j]\n",
    "            elif method[k] == 'Spearman':\n",
    "                newrow['Corr Value'] = df_s.iat[i,j]\n",
    "            df2 = df2.append(newrow,ignore_index=True)"
   ]
  },
  {
   "cell_type": "code",
   "execution_count": 11,
   "id": "a9c4f691",
   "metadata": {},
   "outputs": [
    {
     "data": {
      "text/html": [
       "<div>\n",
       "<style scoped>\n",
       "    .dataframe tbody tr th:only-of-type {\n",
       "        vertical-align: middle;\n",
       "    }\n",
       "\n",
       "    .dataframe tbody tr th {\n",
       "        vertical-align: top;\n",
       "    }\n",
       "\n",
       "    .dataframe thead th {\n",
       "        text-align: right;\n",
       "    }\n",
       "</style>\n",
       "<table border=\"1\" class=\"dataframe\">\n",
       "  <thead>\n",
       "    <tr style=\"text-align: right;\">\n",
       "      <th></th>\n",
       "      <th>Feature-1</th>\n",
       "      <th>Feature-2</th>\n",
       "      <th>Method</th>\n",
       "      <th>Corr Value</th>\n",
       "    </tr>\n",
       "  </thead>\n",
       "  <tbody>\n",
       "    <tr>\n",
       "      <th>0</th>\n",
       "      <td>A</td>\n",
       "      <td>A</td>\n",
       "      <td>Pearson</td>\n",
       "      <td>1.000000</td>\n",
       "    </tr>\n",
       "    <tr>\n",
       "      <th>1</th>\n",
       "      <td>A</td>\n",
       "      <td>A</td>\n",
       "      <td>Kendall</td>\n",
       "      <td>1.000000</td>\n",
       "    </tr>\n",
       "    <tr>\n",
       "      <th>2</th>\n",
       "      <td>A</td>\n",
       "      <td>A</td>\n",
       "      <td>Spearman</td>\n",
       "      <td>1.000000</td>\n",
       "    </tr>\n",
       "    <tr>\n",
       "      <th>3</th>\n",
       "      <td>A</td>\n",
       "      <td>B</td>\n",
       "      <td>Pearson</td>\n",
       "      <td>1.000000</td>\n",
       "    </tr>\n",
       "    <tr>\n",
       "      <th>4</th>\n",
       "      <td>A</td>\n",
       "      <td>B</td>\n",
       "      <td>Kendall</td>\n",
       "      <td>1.000000</td>\n",
       "    </tr>\n",
       "    <tr>\n",
       "      <th>...</th>\n",
       "      <td>...</td>\n",
       "      <td>...</td>\n",
       "      <td>...</td>\n",
       "      <td>...</td>\n",
       "    </tr>\n",
       "    <tr>\n",
       "      <th>103</th>\n",
       "      <td>F</td>\n",
       "      <td>E</td>\n",
       "      <td>Kendall</td>\n",
       "      <td>0.333333</td>\n",
       "    </tr>\n",
       "    <tr>\n",
       "      <th>104</th>\n",
       "      <td>F</td>\n",
       "      <td>E</td>\n",
       "      <td>Spearman</td>\n",
       "      <td>0.428571</td>\n",
       "    </tr>\n",
       "    <tr>\n",
       "      <th>105</th>\n",
       "      <td>F</td>\n",
       "      <td>F</td>\n",
       "      <td>Pearson</td>\n",
       "      <td>1.000000</td>\n",
       "    </tr>\n",
       "    <tr>\n",
       "      <th>106</th>\n",
       "      <td>F</td>\n",
       "      <td>F</td>\n",
       "      <td>Kendall</td>\n",
       "      <td>1.000000</td>\n",
       "    </tr>\n",
       "    <tr>\n",
       "      <th>107</th>\n",
       "      <td>F</td>\n",
       "      <td>F</td>\n",
       "      <td>Spearman</td>\n",
       "      <td>1.000000</td>\n",
       "    </tr>\n",
       "  </tbody>\n",
       "</table>\n",
       "<p>108 rows × 4 columns</p>\n",
       "</div>"
      ],
      "text/plain": [
       "    Feature-1 Feature-2    Method  Corr Value\n",
       "0           A         A   Pearson    1.000000\n",
       "1           A         A   Kendall    1.000000\n",
       "2           A         A  Spearman    1.000000\n",
       "3           A         B   Pearson    1.000000\n",
       "4           A         B   Kendall    1.000000\n",
       "..        ...       ...       ...         ...\n",
       "103         F         E   Kendall    0.333333\n",
       "104         F         E  Spearman    0.428571\n",
       "105         F         F   Pearson    1.000000\n",
       "106         F         F   Kendall    1.000000\n",
       "107         F         F  Spearman    1.000000\n",
       "\n",
       "[108 rows x 4 columns]"
      ]
     },
     "execution_count": 11,
     "metadata": {},
     "output_type": "execute_result"
    }
   ],
   "source": [
    "df2"
   ]
  },
  {
   "cell_type": "code",
   "execution_count": 12,
   "id": "63e5b365",
   "metadata": {},
   "outputs": [
    {
     "data": {
      "image/png": "[encoded data removed]",
      "text/plain": [
       "<Figure size 432x288 with 2 Axes>"
      ]
     },
     "metadata": {
      "needs_background": "light"
     },
     "output_type": "display_data"
    }
   ],
   "source": [
    "sns.heatmap(df.corr(method='pearson'), annot=True, cmap = 'Reds')\n",
    "plt.show()"
   ]
  },
  {
   "cell_type": "code",
   "execution_count": 13,
   "id": "459c1a3e",
   "metadata": {},
   "outputs": [
    {
     "data": {
      "image/png": "[encoded data removed]",
      "text/plain": [
       "<Figure size 432x288 with 2 Axes>"
      ]
     },
     "metadata": {
      "needs_background": "light"
     },
     "output_type": "display_data"
    }
   ],
   "source": [
    "sns.heatmap(df.corr(method='kendall'), annot=True, cmap = 'Reds')\n",
    "plt.show()"
   ]
  },
  {
   "cell_type": "code",
   "execution_count": 14,
   "id": "040ba157",
   "metadata": {},
   "outputs": [
    {
     "data": {
      "image/png": "[encoded data removed]",
      "text/plain": [
       "<Figure size 432x288 with 2 Axes>"
      ]
     },
     "metadata": {
      "needs_background": "light"
     },
     "output_type": "display_data"
    }
   ],
   "source": [
    "sns.heatmap(df.corr(method='spearman'), annot=True, cmap = 'Reds')\n",
    "plt.show()"
   ]
  },
  {
   "cell_type": "markdown",
   "id": "17128341",
   "metadata": {},
   "source": [
    "## Data Analysis On This Dataset"
   ]
  },
  {
   "cell_type": "code",
   "execution_count": 17,
   "id": "9eba93d4",
   "metadata": {},
   "outputs": [
    {
     "data": {
      "text/html": [
       "<div>\n",
       "<style scoped>\n",
       "    .dataframe tbody tr th:only-of-type {\n",
       "        vertical-align: middle;\n",
       "    }\n",
       "\n",
       "    .dataframe tbody tr th {\n",
       "        vertical-align: top;\n",
       "    }\n",
       "\n",
       "    .dataframe thead th {\n",
       "        text-align: right;\n",
       "    }\n",
       "</style>\n",
       "<table border=\"1\" class=\"dataframe\">\n",
       "  <thead>\n",
       "    <tr style=\"text-align: right;\">\n",
       "      <th></th>\n",
       "      <th>A</th>\n",
       "      <th>B</th>\n",
       "      <th>C</th>\n",
       "      <th>D</th>\n",
       "      <th>E</th>\n",
       "      <th>F</th>\n",
       "    </tr>\n",
       "  </thead>\n",
       "  <tbody>\n",
       "    <tr>\n",
       "      <th>count</th>\n",
       "      <td>6.000000</td>\n",
       "      <td>6.000000</td>\n",
       "      <td>6.000000</td>\n",
       "      <td>6.000000</td>\n",
       "      <td>6.000000</td>\n",
       "      <td>6.000000</td>\n",
       "    </tr>\n",
       "    <tr>\n",
       "      <th>mean</th>\n",
       "      <td>3.500000</td>\n",
       "      <td>350.000000</td>\n",
       "      <td>425.000000</td>\n",
       "      <td>-53600.168512</td>\n",
       "      <td>-148540.461790</td>\n",
       "      <td>10.276667</td>\n",
       "    </tr>\n",
       "    <tr>\n",
       "      <th>std</th>\n",
       "      <td>1.870829</td>\n",
       "      <td>187.082869</td>\n",
       "      <td>289.395923</td>\n",
       "      <td>521220.266608</td>\n",
       "      <td>238409.480613</td>\n",
       "      <td>7.404544</td>\n",
       "    </tr>\n",
       "    <tr>\n",
       "      <th>min</th>\n",
       "      <td>1.000000</td>\n",
       "      <td>100.000000</td>\n",
       "      <td>100.000000</td>\n",
       "      <td>-719000.000000</td>\n",
       "      <td>-552206.096560</td>\n",
       "      <td>2.000000</td>\n",
       "    </tr>\n",
       "    <tr>\n",
       "      <th>25%</th>\n",
       "      <td>2.250000</td>\n",
       "      <td>225.000000</td>\n",
       "      <td>225.000000</td>\n",
       "      <td>-388425.190286</td>\n",
       "      <td>-251811.306474</td>\n",
       "      <td>6.500000</td>\n",
       "    </tr>\n",
       "    <tr>\n",
       "      <th>50%</th>\n",
       "      <td>3.500000</td>\n",
       "      <td>350.000000</td>\n",
       "      <td>350.000000</td>\n",
       "      <td>-0.505535</td>\n",
       "      <td>-2467.405068</td>\n",
       "      <td>9.000000</td>\n",
       "    </tr>\n",
       "    <tr>\n",
       "      <th>75%</th>\n",
       "      <td>4.750000</td>\n",
       "      <td>475.000000</td>\n",
       "      <td>662.500000</td>\n",
       "      <td>123599.937518</td>\n",
       "      <td>0.485454</td>\n",
       "      <td>11.500000</td>\n",
       "    </tr>\n",
       "    <tr>\n",
       "      <th>max</th>\n",
       "      <td>6.000000</td>\n",
       "      <td>600.000000</td>\n",
       "      <td>800.000000</td>\n",
       "      <td>750500.000000</td>\n",
       "      <td>0.960604</td>\n",
       "      <td>23.660000</td>\n",
       "    </tr>\n",
       "  </tbody>\n",
       "</table>\n",
       "</div>"
      ],
      "text/plain": [
       "              A           B           C              D              E  \\\n",
       "count  6.000000    6.000000    6.000000       6.000000       6.000000   \n",
       "mean   3.500000  350.000000  425.000000  -53600.168512 -148540.461790   \n",
       "std    1.870829  187.082869  289.395923  521220.266608  238409.480613   \n",
       "min    1.000000  100.000000  100.000000 -719000.000000 -552206.096560   \n",
       "25%    2.250000  225.000000  225.000000 -388425.190286 -251811.306474   \n",
       "50%    3.500000  350.000000  350.000000      -0.505535   -2467.405068   \n",
       "75%    4.750000  475.000000  662.500000  123599.937518       0.485454   \n",
       "max    6.000000  600.000000  800.000000  750500.000000       0.960604   \n",
       "\n",
       "               F  \n",
       "count   6.000000  \n",
       "mean   10.276667  \n",
       "std     7.404544  \n",
       "min     2.000000  \n",
       "25%     6.500000  \n",
       "50%     9.000000  \n",
       "75%    11.500000  \n",
       "max    23.660000  "
      ]
     },
     "execution_count": 17,
     "metadata": {},
     "output_type": "execute_result"
    }
   ],
   "source": [
    "df.describe()"
   ]
  },
  {
   "cell_type": "markdown",
   "id": "9c9d8a81",
   "metadata": {},
   "source": [
    "### Box Plot"
   ]
  },
  {
   "cell_type": "code",
   "execution_count": 21,
   "id": "4bfc4973",
   "metadata": {},
   "outputs": [
    {
     "data": {
      "text/plain": [
       "<seaborn.axisgrid.FacetGrid at 0x2813deb5c70>"
      ]
     },
     "execution_count": 21,
     "metadata": {},
     "output_type": "execute_result"
    },
    {
     "data": {
      "image/png": "[encoded data removed]",
      "text/plain": [
       "<Figure size 423.36x302.4 with 1 Axes>"
      ]
     },
     "metadata": {
      "needs_background": "light"
     },
     "output_type": "display_data"
    }
   ],
   "source": [
    "sns.catplot(x=\"A\", kind=\"box\", data=df, height=4.2, aspect=1.4)"
   ]
  },
  {
   "cell_type": "markdown",
   "id": "f006b370",
   "metadata": {},
   "source": [
    "**Inference:** As per the box plot the median value of attribute A is in between 3 and 4"
   ]
  },
  {
   "cell_type": "code",
   "execution_count": 22,
   "id": "fc692c6f",
   "metadata": {},
   "outputs": [
    {
     "data": {
      "text/plain": [
       "<seaborn.axisgrid.FacetGrid at 0x2813d56b3d0>"
      ]
     },
     "execution_count": 22,
     "metadata": {},
     "output_type": "execute_result"
    },
    {
     "data": {
      "image/png": "[encoded data removed]",
      "text/plain": [
       "<Figure size 423.36x302.4 with 1 Axes>"
      ]
     },
     "metadata": {
      "needs_background": "light"
     },
     "output_type": "display_data"
    }
   ],
   "source": [
    "sns.catplot(x=\"B\", kind=\"box\", data=df, height=4.2, aspect=1.4)"
   ]
  },
  {
   "cell_type": "markdown",
   "id": "a46ed3a5",
   "metadata": {},
   "source": [
    "**Inference:** As per the box plot the median value of attribute B is in between 300 to 400."
   ]
  },
  {
   "cell_type": "code",
   "execution_count": 23,
   "id": "cae1a228",
   "metadata": {},
   "outputs": [
    {
     "data": {
      "text/plain": [
       "<seaborn.axisgrid.FacetGrid at 0x2813e0a7880>"
      ]
     },
     "execution_count": 23,
     "metadata": {},
     "output_type": "execute_result"
    },
    {
     "data": {
      "image/png": "[encoded data removed]",
      "text/plain": [
       "<Figure size 423.36x302.4 with 1 Axes>"
      ]
     },
     "metadata": {
      "needs_background": "light"
     },
     "output_type": "display_data"
    }
   ],
   "source": [
    "sns.catplot(x=\"C\", kind=\"box\", data=df, height=4.2, aspect=1.4)"
   ]
  },
  {
   "cell_type": "markdown",
   "id": "07701fc7",
   "metadata": {},
   "source": [
    "**Inference:** As per the box plot the median values of attribute C is also between 300 to 400 but its range is more as compare to others."
   ]
  },
  {
   "cell_type": "code",
   "execution_count": 24,
   "id": "7b5a9ecd",
   "metadata": {},
   "outputs": [
    {
     "data": {
      "text/plain": [
       "<seaborn.axisgrid.FacetGrid at 0x2813e131610>"
      ]
     },
     "execution_count": 24,
     "metadata": {},
     "output_type": "execute_result"
    },
    {
     "data": {
      "image/png": "[encoded data removed]",
      "text/plain": [
       "<Figure size 423.36x302.4 with 1 Axes>"
      ]
     },
     "metadata": {
      "needs_background": "light"
     },
     "output_type": "display_data"
    }
   ],
   "source": [
    "sns.catplot(x=\"D\", kind=\"box\", data=df, height=4.2, aspect=1.4)"
   ]
  },
  {
   "cell_type": "markdown",
   "id": "625cdcd4",
   "metadata": {},
   "source": [
    "**Inference:** The median value for attribute D is tends to 0 but its range is more scattered in negative."
   ]
  },
  {
   "cell_type": "code",
   "execution_count": 25,
   "id": "5b597db8",
   "metadata": {},
   "outputs": [
    {
     "data": {
      "text/plain": [
       "<seaborn.axisgrid.FacetGrid at 0x2813d3391c0>"
      ]
     },
     "execution_count": 25,
     "metadata": {},
     "output_type": "execute_result"
    },
    {
     "data": {
      "image/png": "[encoded data removed]",
      "text/plain": [
       "<Figure size 423.36x302.4 with 1 Axes>"
      ]
     },
     "metadata": {
      "needs_background": "light"
     },
     "output_type": "display_data"
    }
   ],
   "source": [
    "sns.catplot(x=\"E\", kind=\"box\", data=df, height=4.2, aspect=1.4)"
   ]
  },
  {
   "cell_type": "markdown",
   "id": "bcedba8e",
   "metadata": {},
   "source": [
    "**Inference:** The median value for attribute E is tends to 0 and all the are either tends to 0 or negative."
   ]
  },
  {
   "cell_type": "code",
   "execution_count": 26,
   "id": "749835b2",
   "metadata": {},
   "outputs": [
    {
     "data": {
      "text/plain": [
       "<seaborn.axisgrid.FacetGrid at 0x2813d330d60>"
      ]
     },
     "execution_count": 26,
     "metadata": {},
     "output_type": "execute_result"
    },
    {
     "data": {
      "image/png": "[encoded data removed]",
      "text/plain": [
       "<Figure size 423.36x302.4 with 1 Axes>"
      ]
     },
     "metadata": {
      "needs_background": "light"
     },
     "output_type": "display_data"
    }
   ],
   "source": [
    "sns.catplot(x=\"F\", kind=\"box\", data=df, height=4.2, aspect=1.4)"
   ]
  },
  {
   "cell_type": "markdown",
   "id": "fea05f24",
   "metadata": {},
   "source": [
    "**Inference:** The median value of attribute F is near about 8 or 9 and there exist an outlier which is greater than 20."
   ]
  },
  {
   "cell_type": "markdown",
   "id": "0c974904",
   "metadata": {},
   "source": [
    "### Pair Plot"
   ]
  },
  {
   "cell_type": "code",
   "execution_count": 15,
   "id": "ec3e2706",
   "metadata": {},
   "outputs": [
    {
     "data": {
      "image/png": "[encoded data removed]",
      "text/plain": [
       "<Figure size 1080x1080 with 42 Axes>"
      ]
     },
     "metadata": {
      "needs_background": "light"
     },
     "output_type": "display_data"
    }
   ],
   "source": [
    "sns.pairplot(data = df)\n",
    "plt.show()"
   ]
  }
 ],
 "metadata": {
  "kernelspec": {
   "display_name": "Python 3",
   "language": "python",
   "name": "python3"
  },
  "language_info": {
   "codemirror_mode": {
    "name": "ipython",
    "version": 3
   },
   "file_extension": ".py",
   "mimetype": "text/x-python",
   "name": "python",
   "nbconvert_exporter": "python",
   "pygments_lexer": "ipython3",
   "version": "3.8.8"
  }
 },
 "nbformat": 4,
 "nbformat_minor": 5
}
